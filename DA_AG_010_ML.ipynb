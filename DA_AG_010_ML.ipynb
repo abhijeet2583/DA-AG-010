{
  "nbformat": 4,
  "nbformat_minor": 0,
  "metadata": {
    "colab": {
      "provenance": []
    },
    "kernelspec": {
      "name": "python3",
      "display_name": "Python 3"
    },
    "language_info": {
      "name": "python"
    }
  },
  "cells": [
    {
      "cell_type": "markdown",
      "source": [
        "                  Assignment DA-AG-010\n",
        "\n",
        "1.What is Simple Linear Regression?\n",
        "-Simple Linear Regression is a statistical method used to model the relationship between two continuous variables: a dependent variable (the one you are trying to predict) and an independent variable (the one used for prediction). It assumes a linear relationship between these variables, meaning that the change in the dependent variable is proportional to the change in the independent variable.\n",
        "\n",
        "The goal of simple linear regression is to find the best-fitting straight line through the data points, which can then be used to predict the dependent variable based on the value of the independent variable. The equation for a simple linear regression line is typically represented as:\n",
        "\n",
        "𝑦=𝑚𝑥+c\n",
        "\n",
        "Where:\n",
        "\n",
        "𝑦  is the dependent variable\n",
        "𝑥  is the independent variable\n",
        "𝑚  is the slope of the line (representing the change in  𝑦  for a one-unit change in  𝑥 )\n",
        "c is the y-intercept (representing the value of  𝑦  when  𝑥  is 0)\n",
        "\n",
        "2.What are the key assumptions of Simple Linear Regression?\n",
        "-Simple Linear Regression relies on several key assumptions to    ensure the validity and reliability of the model. These assumptions are about the data and the relationship between the variables. If these assumptions are violated, the results of the regression analysis may be misleading.\n",
        "\n",
        "Linearity: The relationship between the independent variable ( 𝑥 ) and the dependent variable ( 𝑦 ) is linear. This means that the data points should approximately follow a straight line when plotted on a scatter plot.\n",
        "\n",
        "Independence of Errors: The errors (residuals) are independent of each other. This means that the error for one observation does not influence the error for another observation. This assumption can be violated in time series data or data with a hierarchical structure.\n",
        "\n",
        "Homoscedasticity (Constant Variance of Errors): The variance of the errors is constant across all levels of the independent variable. In other words, the spread of the residuals should be roughly the same for all values of  𝑥 . Heteroscedasticity (non-constant variance) can lead to inefficient estimates of the regression coefficients.\n",
        "\n",
        "Normality of Errors: The errors (residuals) are normally distributed. This assumption is particularly important for hypothesis testing and constructing confidence intervals. While the regression coefficients themselves are still unbiased even if the errors are not normally distributed (due to the Central Limit Theorem for large sample sizes), the statistical inferences (p-values, confidence intervals) will be unreliable.\n",
        "\n",
        "No Multicollinearity (for Multiple Linear Regression): While this is strictly an assumption for multiple linear regression (with more than one independent variable), it's worth mentioning in the context of regression. In simple linear regression, you only have one independent variable, so multicollinearity (high correlation between independent variables) is not an issue. However, in multiple regression, high multicollinearity can make it difficult to interpret the individual coefficients.\n",
        "\n",
        "3.What is heteroscedasticity, and why is it important to address in regression models?\n",
        "- Heteroscedasticity** refers to the situation in a regression model where the variance of the errors (residuals) is not constant across all levels of the independent variable(s). In other words, the spread or dispersion of the residuals changes as the value of the independent variable(s) changes. This is a violation of one of the key assumptions of ordinary least squares (OLS) regression, which assumes **homoscedasticity** (constant variance of errors).\n",
        "\n",
        "Imagine plotting the residuals against the predicted values or the independent variable. With heteroscedasticity, you would see a pattern in the spread of the residuals, such as them fanning out (increasing variance) or fanning in (decreasing variance) as the values on the x-axis change.\n",
        "\n",
        "Addressing heteroscedasticity is important for several reasons:\n",
        "\n",
        "1.  **Inefficient Coefficient Estimates:** While OLS regression coefficients remain unbiased in the presence of heteroscedasticity, they are no longer the most efficient estimators. This means that the standard errors of the coefficients will be incorrect, and the confidence intervals will be too wide or too narrow.\n",
        "\n",
        "2.  **Invalid Hypothesis Testing:** Because the standard errors are incorrect, hypothesis tests (like t-tests and F-tests) will be unreliable. This can lead to incorrect conclusions about the statistical significance of the independent variables. You might incorrectly conclude that a variable is significant when it is not, or vice-versa.\n",
        "\n",
        "3.  **Misleading Predictions:** The predictions made by the regression model may be less accurate, especially for values of the independent variable where the variance of the errors is particularly large.\n",
        "\n",
        "4.  **Impact on Model Selection:** If you are comparing different models, heteroscedasticity can affect model selection criteria that rely on the assumption of homoscedasticity.\n",
        "\n",
        "**In summary, while heteroscedasticity doesn't bias the regression coefficients, it makes the statistical inferences (standard errors, confidence intervals, p-values) invalid.** This means you cannot reliably assess the precision of your estimates or the statistical significance of your independent variables.\n",
        "\n",
        "**How to detect and address heteroscedasticity:**\n",
        "\n",
        "*   **Graphical methods:** Plotting residuals against predicted values or independent variables is a common way to visually inspect for patterns in the spread of residuals.\n",
        "\n",
        "*   **Statistical tests:** There are formal statistical tests like the Breusch-Pagan test, White test, and Goldfeld-Quandt test that can be used to test for heteroscedasticity.\n",
        "\n",
        "*   **Addressing heteroscedasticity:** If heteroscedasticity is detected, several methods can be used to address it, including:\n",
        "    *   Data transformations (e.g., taking the logarithm of the dependent variable).\n",
        "    *   Using weighted least squares (WLS) regression, which gives less weight to observations with larger variances.\n",
        "    *   Using robust standard errors, which adjust the standard errors to account for heteroscedasticity without changing the coefficient estimates.\n",
        "\n",
        "4.What is Multiple Linear Regression?\n",
        "\n",
        "-Multiple Linear Regression is a statistical method used to model the relationship between a dependent variable and two or more independent variables. It is an extension of simple linear regression, which only involves one independent variable.\n",
        "\n",
        "The goal of multiple linear regression is to find the best-fitting linear equation that describes how the dependent variable changes as the independent variables change. The equation for a multiple linear regression model is typically represented as:\n",
        "\n",
        "𝑦=𝑏0+𝑏1𝑥1+𝑏2𝑥2+...+𝑏𝑛𝑥𝑛+𝜖\n",
        "\n",
        "Where:\n",
        "\n",
        "𝑦  is the dependent variable\n",
        "𝑥1,𝑥2,...,𝑥𝑛  are the independent variables\n",
        "𝑏0  is the y-intercept (the value of  𝑦  when all independent variables are 0)\n",
        "𝑏1,𝑏2,...,𝑏𝑛  are the coefficients for each independent variable (representing the change in  𝑦  for a one-unit change in the corresponding independent variable, holding all other independent variables constant)\n",
        "𝜖  is the error term (representing the part of  𝑦  that is not explained by the independent variables).\n",
        "\n",
        "Key aspects of multiple linear regression include:\n",
        "\n",
        "Assumptions: Multiple linear regression shares many of the same assumptions as simple linear regression, including linearity, independence of errors, homoscedasticity, and normality of errors. Additionally, it assumes no perfect multicollinearity (high correlation between independent variables).\n",
        "Interpretation of Coefficients: The coefficients in multiple linear regression represent the partial effect of each independent variable on the dependent variable, holding all other independent variables constant. This allows for a more nuanced understanding of the relationships between variables.\n",
        "Model Evaluation: Various metrics are used to evaluate the performance of a multiple linear regression model, including R-squared (which indicates the proportion of the variance in the dependent variable explained by all independent variables), adjusted R-squared (which adjusts R-squared for the number of independent variables), and p-values for each coefficient (to assess their statistical significance).\n",
        "\n",
        "5.What is polynomial regression, and how does it differ from linear regression?\n",
        "\n",
        "-Polynomial Regression is a form of regression analysis in which\n",
        "  the relationship between the independent variable(s) and the dependent variable is modeled as an  𝑛 -th degree polynomial. While linear regression models a straight-line relationship, polynomial regression models a curved relationship.\n",
        "\n",
        "  Polynomial regression equation:\n",
        "\n",
        "  𝑦=𝑏0+𝑏1𝑥+𝑏2𝑥2+...+𝑏𝑛𝑥\n",
        "\n",
        "  where,\n",
        "\n",
        "*   $y$ is the dependent variable.\n",
        "*   $x$ is the independent variable.\n",
        "*   $b_0, b_1, b_2, ..., b_n$ are the coefficients.\n",
        "*   $n$ is the degree of the polynomial.\n",
        "\n",
        "The key difference lies in the nature of the relationship being modeled:\n",
        "\n",
        "Linear Regression: Assumes a strictly linear relationship between the independent and dependent variables. The equation is a straight line ( 𝑦=𝑚𝑥+𝑐  or  𝑦=𝑏0+𝑏1𝑥).\n",
        "\n",
        "Polynomial Regression: Models a non-linear relationship by including polynomial terms (e.g.,  𝑥2,𝑥3 ) of the independent variable in the equation. This allows the model to fit curved patterns in the data."
      ],
      "metadata": {
        "id": "LSTZcjVGvEx8"
      }
    },
    {
      "cell_type": "markdown",
      "source": [
        "6.Implement a Python program to fit a Simple Linear Regression model to\n",
        "the following sample data:\n",
        "● X = [1, 2, 3, 4, 5]\n",
        "● Y = [2.1, 4.3, 6.1, 7.9, 10.2]\n",
        "Plot the regression line over the data points."
      ],
      "metadata": {
        "id": "_r_X1NSHCqtk"
      }
    },
    {
      "cell_type": "code",
      "source": [
        "import pandas as pd\n",
        "import numpy as np\n",
        "import matplotlib.pyplot as plt\n",
        "from sklearn.linear_model import LinearRegression\n",
        "\n",
        "# Sample data\n",
        "X = np.array([1, 2, 3, 4, 5]).reshape(-1, 1)\n",
        "Y = np.array([2.1, 4.3, 6.1, 7.9, 10.2])\n",
        "\n",
        "#Model training\n",
        "model= LinearRegression()\n",
        "model.fit(X_train,Y_train)\n",
        "model.coef_\n",
        "model.intercept_\n",
        "print(f\" coeff: {model.coef_} \\n intercept: {model.intercept_}\")\n",
        "\n",
        "#Model Prediction\n",
        "Y_pred=model.predict(X)\n",
        "\n",
        "#visualise of x_test and y_test\n",
        "plt.scatter(X,Y,color='blue')\n",
        "plt.plot(X,Y_pred,color='red',label=\"predicted\")\n",
        "plt.xlabel('X')\n",
        "plt.ylabel('Y')\n",
        "plt.title('Simple Linear Regression')\n",
        "plt.legend()\n",
        "plt.show()\n",
        "\n",
        "#Model Evaluation\n",
        "from sklearn.metrics import r2_score,mean_squared_error\n",
        "mse=mean_squared_error(Y,Y_pred)\n",
        "r2_score(Y,Y_pred)\n",
        "print(f\"mse: {mse} \\n r2_score: {r2_score(Y,Y_pred)}\")\n",
        "\n",
        "\n"
      ],
      "metadata": {
        "colab": {
          "base_uri": "https://localhost:8080/",
          "height": 541
        },
        "id": "a1lsIlmgFO0E",
        "outputId": "b31c995e-8b90-4eb3-f481-8f5d56ce62e7"
      },
      "execution_count": 25,
      "outputs": [
        {
          "output_type": "stream",
          "name": "stdout",
          "text": [
            " coeff: [1.98] \n",
            " intercept: 0.1849999999999996\n"
          ]
        },
        {
          "output_type": "display_data",
          "data": {
            "text/plain": [
              "<Figure size 640x480 with 1 Axes>"
            ],
            "image/png": "[encoded data removed]"
          },
          "metadata": {}
        },
        {
          "output_type": "stream",
          "name": "stdout",
          "text": [
            "mse: 0.01682499999999995 \n",
            " r2_score: 0.9978587609448177\n"
          ]
        }
      ]
    },
    {
      "cell_type": "markdown",
      "source": [
        "7.Fit a Multiple Linear Regression model on this sample data:\n",
        "● Area = [1200, 1500, 1800, 2000]\n",
        "● Rooms = [2, 3, 3, 4]\n",
        "● Price = [250000, 300000, 320000, 370000]\n",
        "Check for multicollinearity using VIF and report the results."
      ],
      "metadata": {
        "id": "T9KyGS-jKWly"
      }
    },
    {
      "cell_type": "code",
      "source": [
        "import pandas as pd\n",
        "import numpy as np\n",
        "import seaborn as sns\n",
        "from sklearn.linear_model import LinearRegression\n",
        "from statsmodels.stats.outliers_influence import variance_inflation_factor\n",
        "import statsmodels.api as sm\n",
        "data={\"Area\":[1200,1500,1800,2000],\"Rooms\":[2,3,3,4],\"Price\":[250000,300000,320000,370000]}\n",
        "data.keys()\n",
        "df=pd.DataFrame(data,columns=data.keys())\n",
        "X = df.drop('Price',axis=1)\n",
        "Y = df['Price']\n",
        "X"
      ],
      "metadata": {
        "colab": {
          "base_uri": "https://localhost:8080/",
          "height": 174
        },
        "id": "EpIPcFvRNAoh",
        "outputId": "9dc90c7f-13c9-4965-bfde-dab713a06bec"
      },
      "execution_count": 48,
      "outputs": [
        {
          "output_type": "execute_result",
          "data": {
            "text/plain": [
              "   Area  Rooms\n",
              "0  1200      2\n",
              "1  1500      3\n",
              "2  1800      3\n",
              "3  2000      4"
            ],
            "text/html": [
              "\n",
              "  <div id=\"df-ee1db81c-554c-4d1b-bd26-53ffe508f863\" class=\"colab-df-container\">\n",
              "    <div>\n",
              "<style scoped>\n",
              "    .dataframe tbody tr th:only-of-type {\n",
              "        vertical-align: middle;\n",
              "    }\n",
              "\n",
              "    .dataframe tbody tr th {\n",
              "        vertical-align: top;\n",
              "    }\n",
              "\n",
              "    .dataframe thead th {\n",
              "        text-align: right;\n",
              "    }\n",
              "</style>\n",
              "<table border=\"1\" class=\"dataframe\">\n",
              "  <thead>\n",
              "    <tr style=\"text-align: right;\">\n",
              "      <th></th>\n",
              "      <th>Area</th>\n",
              "      <th>Rooms</th>\n",
              "    </tr>\n",
              "  </thead>\n",
              "  <tbody>\n",
              "    <tr>\n",
              "      <th>0</th>\n",
              "      <td>1200</td>\n",
              "      <td>2</td>\n",
              "    </tr>\n",
              "    <tr>\n",
              "      <th>1</th>\n",
              "      <td>1500</td>\n",
              "      <td>3</td>\n",
              "    </tr>\n",
              "    <tr>\n",
              "      <th>2</th>\n",
              "      <td>1800</td>\n",
              "      <td>3</td>\n",
              "    </tr>\n",
              "    <tr>\n",
              "      <th>3</th>\n",
              "      <td>2000</td>\n",
              "      <td>4</td>\n",
              "    </tr>\n",
              "  </tbody>\n",
              "</table>\n",
              "</div>\n",
              "    <div class=\"colab-df-buttons\">\n",
              "\n",
              "  <div class=\"colab-df-container\">\n",
              "    <button class=\"colab-df-convert\" onclick=\"convertToInteractive('df-ee1db81c-554c-4d1b-bd26-53ffe508f863')\"\n",
              "            title=\"Convert this dataframe to an interactive table.\"\n",
              "            style=\"display:none;\">\n",
              "\n",
              "  <svg xmlns=\"http://www.w3.org/2000/svg\" height=\"24px\" viewBox=\"0 -960 960 960\">\n",
              "    <path d=\"M120-120v-720h720v720H120Zm60-500h600v-160H180v160Zm220 220h160v-160H400v160Zm0 220h160v-160H400v160ZM180-400h160v-160H180v160Zm440 0h160v-160H620v160ZM180-180h160v-160H180v160Zm440 0h160v-160H620v160Z\"/>\n",
              "  </svg>\n",
              "    </button>\n",
              "\n",
              "  <style>\n",
              "    .colab-df-container {\n",
              "      display:flex;\n",
              "      gap: 12px;\n",
              "    }\n",
              "\n",
              "    .colab-df-convert {\n",
              "      background-color: #E8F0FE;\n",
              "      border: none;\n",
              "      border-radius: 50%;\n",
              "      cursor: pointer;\n",
              "      display: none;\n",
              "      fill: #1967D2;\n",
              "      height: 32px;\n",
              "      padding: 0 0 0 0;\n",
              "      width: 32px;\n",
              "    }\n",
              "\n",
              "    .colab-df-convert:hover {\n",
              "      background-color: #E2EBFA;\n",
              "      box-shadow: 0px 1px 2px rgba(60, 64, 67, 0.3), 0px 1px 3px 1px rgba(60, 64, 67, 0.15);\n",
              "      fill: #174EA6;\n",
              "    }\n",
              "\n",
              "    .colab-df-buttons div {\n",
              "      margin-bottom: 4px;\n",
              "    }\n",
              "\n",
              "    [theme=dark] .colab-df-convert {\n",
              "      background-color: #3B4455;\n",
              "      fill: #D2E3FC;\n",
              "    }\n",
              "\n",
              "    [theme=dark] .colab-df-convert:hover {\n",
              "      background-color: #434B5C;\n",
              "      box-shadow: 0px 1px 3px 1px rgba(0, 0, 0, 0.15);\n",
              "      filter: drop-shadow(0px 1px 2px rgba(0, 0, 0, 0.3));\n",
              "      fill: #FFFFFF;\n",
              "    }\n",
              "  </style>\n",
              "\n",
              "    <script>\n",
              "      const buttonEl =\n",
              "        document.querySelector('#df-ee1db81c-554c-4d1b-bd26-53ffe508f863 button.colab-df-convert');\n",
              "      buttonEl.style.display =\n",
              "        google.colab.kernel.accessAllowed ? 'block' : 'none';\n",
              "\n",
              "      async function convertToInteractive(key) {\n",
              "        const element = document.querySelector('#df-ee1db81c-554c-4d1b-bd26-53ffe508f863');\n",
              "        const dataTable =\n",
              "          await google.colab.kernel.invokeFunction('convertToInteractive',\n",
              "                                                    [key], {});\n",
              "        if (!dataTable) return;\n",
              "\n",
              "        const docLinkHtml = 'Like what you see? Visit the ' +\n",
              "          '<a target=\"_blank\" href=https://colab.research.google.com/notebooks/data_table.ipynb>data table notebook</a>'\n",
              "          + ' to learn more about interactive tables.';\n",
              "        element.innerHTML = '';\n",
              "        dataTable['output_type'] = 'display_data';\n",
              "        await google.colab.output.renderOutput(dataTable, element);\n",
              "        const docLink = document.createElement('div');\n",
              "        docLink.innerHTML = docLinkHtml;\n",
              "        element.appendChild(docLink);\n",
              "      }\n",
              "    </script>\n",
              "  </div>\n",
              "\n",
              "\n",
              "    <div id=\"df-882ef9ff-2bb3-445f-bae0-7f46bbd23e6b\">\n",
              "      <button class=\"colab-df-quickchart\" onclick=\"quickchart('df-882ef9ff-2bb3-445f-bae0-7f46bbd23e6b')\"\n",
              "                title=\"Suggest charts\"\n",
              "                style=\"display:none;\">\n",
              "\n",
              "<svg xmlns=\"http://www.w3.org/2000/svg\" height=\"24px\"viewBox=\"0 0 24 24\"\n",
              "     width=\"24px\">\n",
              "    <g>\n",
              "        <path d=\"M19 3H5c-1.1 0-2 .9-2 2v14c0 1.1.9 2 2 2h14c1.1 0 2-.9 2-2V5c0-1.1-.9-2-2-2zM9 17H7v-7h2v7zm4 0h-2V7h2v10zm4 0h-2v-4h2v4z\"/>\n",
              "    </g>\n",
              "</svg>\n",
              "      </button>\n",
              "\n",
              "<style>\n",
              "  .colab-df-quickchart {\n",
              "      --bg-color: #E8F0FE;\n",
              "      --fill-color: #1967D2;\n",
              "      --hover-bg-color: #E2EBFA;\n",
              "      --hover-fill-color: #174EA6;\n",
              "      --disabled-fill-color: #AAA;\n",
              "      --disabled-bg-color: #DDD;\n",
              "  }\n",
              "\n",
              "  [theme=dark] .colab-df-quickchart {\n",
              "      --bg-color: #3B4455;\n",
              "      --fill-color: #D2E3FC;\n",
              "      --hover-bg-color: #434B5C;\n",
              "      --hover-fill-color: #FFFFFF;\n",
              "      --disabled-bg-color: #3B4455;\n",
              "      --disabled-fill-color: #666;\n",
              "  }\n",
              "\n",
              "  .colab-df-quickchart {\n",
              "    background-color: var(--bg-color);\n",
              "    border: none;\n",
              "    border-radius: 50%;\n",
              "    cursor: pointer;\n",
              "    display: none;\n",
              "    fill: var(--fill-color);\n",
              "    height: 32px;\n",
              "    padding: 0;\n",
              "    width: 32px;\n",
              "  }\n",
              "\n",
              "  .colab-df-quickchart:hover {\n",
              "    background-color: var(--hover-bg-color);\n",
              "    box-shadow: 0 1px 2px rgba(60, 64, 67, 0.3), 0 1px 3px 1px rgba(60, 64, 67, 0.15);\n",
              "    fill: var(--button-hover-fill-color);\n",
              "  }\n",
              "\n",
              "  .colab-df-quickchart-complete:disabled,\n",
              "  .colab-df-quickchart-complete:disabled:hover {\n",
              "    background-color: var(--disabled-bg-color);\n",
              "    fill: var(--disabled-fill-color);\n",
              "    box-shadow: none;\n",
              "  }\n",
              "\n",
              "  .colab-df-spinner {\n",
              "    border: 2px solid var(--fill-color);\n",
              "    border-color: transparent;\n",
              "    border-bottom-color: var(--fill-color);\n",
              "    animation:\n",
              "      spin 1s steps(1) infinite;\n",
              "  }\n",
              "\n",
              "  @keyframes spin {\n",
              "    0% {\n",
              "      border-color: transparent;\n",
              "      border-bottom-color: var(--fill-color);\n",
              "      border-left-color: var(--fill-color);\n",
              "    }\n",
              "    20% {\n",
              "      border-color: transparent;\n",
              "      border-left-color: var(--fill-color);\n",
              "      border-top-color: var(--fill-color);\n",
              "    }\n",
              "    30% {\n",
              "      border-color: transparent;\n",
              "      border-left-color: var(--fill-color);\n",
              "      border-top-color: var(--fill-color);\n",
              "      border-right-color: var(--fill-color);\n",
              "    }\n",
              "    40% {\n",
              "      border-color: transparent;\n",
              "      border-right-color: var(--fill-color);\n",
              "      border-top-color: var(--fill-color);\n",
              "    }\n",
              "    60% {\n",
              "      border-color: transparent;\n",
              "      border-right-color: var(--fill-color);\n",
              "    }\n",
              "    80% {\n",
              "      border-color: transparent;\n",
              "      border-right-color: var(--fill-color);\n",
              "      border-bottom-color: var(--fill-color);\n",
              "    }\n",
              "    90% {\n",
              "      border-color: transparent;\n",
              "      border-bottom-color: var(--fill-color);\n",
              "    }\n",
              "  }\n",
              "</style>\n",
              "\n",
              "      <script>\n",
              "        async function quickchart(key) {\n",
              "          const quickchartButtonEl =\n",
              "            document.querySelector('#' + key + ' button');\n",
              "          quickchartButtonEl.disabled = true;  // To prevent multiple clicks.\n",
              "          quickchartButtonEl.classList.add('colab-df-spinner');\n",
              "          try {\n",
              "            const charts = await google.colab.kernel.invokeFunction(\n",
              "                'suggestCharts', [key], {});\n",
              "          } catch (error) {\n",
              "            console.error('Error during call to suggestCharts:', error);\n",
              "          }\n",
              "          quickchartButtonEl.classList.remove('colab-df-spinner');\n",
              "          quickchartButtonEl.classList.add('colab-df-quickchart-complete');\n",
              "        }\n",
              "        (() => {\n",
              "          let quickchartButtonEl =\n",
              "            document.querySelector('#df-882ef9ff-2bb3-445f-bae0-7f46bbd23e6b button');\n",
              "          quickchartButtonEl.style.display =\n",
              "            google.colab.kernel.accessAllowed ? 'block' : 'none';\n",
              "        })();\n",
              "      </script>\n",
              "    </div>\n",
              "\n",
              "  <div id=\"id_f95b4a61-20e2-4a11-abb8-eea7dd82bdc8\">\n",
              "    <style>\n",
              "      .colab-df-generate {\n",
              "        background-color: #E8F0FE;\n",
              "        border: none;\n",
              "        border-radius: 50%;\n",
              "        cursor: pointer;\n",
              "        display: none;\n",
              "        fill: #1967D2;\n",
              "        height: 32px;\n",
              "        padding: 0 0 0 0;\n",
              "        width: 32px;\n",
              "      }\n",
              "\n",
              "      .colab-df-generate:hover {\n",
              "        background-color: #E2EBFA;\n",
              "        box-shadow: 0px 1px 2px rgba(60, 64, 67, 0.3), 0px 1px 3px 1px rgba(60, 64, 67, 0.15);\n",
              "        fill: #174EA6;\n",
              "      }\n",
              "\n",
              "      [theme=dark] .colab-df-generate {\n",
              "        background-color: #3B4455;\n",
              "        fill: #D2E3FC;\n",
              "      }\n",
              "\n",
              "      [theme=dark] .colab-df-generate:hover {\n",
              "        background-color: #434B5C;\n",
              "        box-shadow: 0px 1px 3px 1px rgba(0, 0, 0, 0.15);\n",
              "        filter: drop-shadow(0px 1px 2px rgba(0, 0, 0, 0.3));\n",
              "        fill: #FFFFFF;\n",
              "      }\n",
              "    </style>\n",
              "    <button class=\"colab-df-generate\" onclick=\"generateWithVariable('X')\"\n",
              "            title=\"Generate code using this dataframe.\"\n",
              "            style=\"display:none;\">\n",
              "\n",
              "  <svg xmlns=\"http://www.w3.org/2000/svg\" height=\"24px\"viewBox=\"0 0 24 24\"\n",
              "       width=\"24px\">\n",
              "    <path d=\"M7,19H8.4L18.45,9,17,7.55,7,17.6ZM5,21V16.75L18.45,3.32a2,2,0,0,1,2.83,0l1.4,1.43a1.91,1.91,0,0,1,.58,1.4,1.91,1.91,0,0,1-.58,1.4L9.25,21ZM18.45,9,17,7.55Zm-12,3A5.31,5.31,0,0,0,4.9,8.1,5.31,5.31,0,0,0,1,6.5,5.31,5.31,0,0,0,4.9,4.9,5.31,5.31,0,0,0,6.5,1,5.31,5.31,0,0,0,8.1,4.9,5.31,5.31,0,0,0,12,6.5,5.46,5.46,0,0,0,6.5,12Z\"/>\n",
              "  </svg>\n",
              "    </button>\n",
              "    <script>\n",
              "      (() => {\n",
              "      const buttonEl =\n",
              "        document.querySelector('#id_f95b4a61-20e2-4a11-abb8-eea7dd82bdc8 button.colab-df-generate');\n",
              "      buttonEl.style.display =\n",
              "        google.colab.kernel.accessAllowed ? 'block' : 'none';\n",
              "\n",
              "      buttonEl.onclick = () => {\n",
              "        google.colab.notebook.generateWithVariable('X');\n",
              "      }\n",
              "      })();\n",
              "    </script>\n",
              "  </div>\n",
              "\n",
              "    </div>\n",
              "  </div>\n"
            ],
            "application/vnd.google.colaboratory.intrinsic+json": {
              "type": "dataframe",
              "variable_name": "X",
              "summary": "{\n  \"name\": \"X\",\n  \"rows\": 4,\n  \"fields\": [\n    {\n      \"column\": \"Area\",\n      \"properties\": {\n        \"dtype\": \"number\",\n        \"std\": 350,\n        \"min\": 1200,\n        \"max\": 2000,\n        \"num_unique_values\": 4,\n        \"samples\": [\n          1500,\n          2000,\n          1200\n        ],\n        \"semantic_type\": \"\",\n        \"description\": \"\"\n      }\n    },\n    {\n      \"column\": \"Rooms\",\n      \"properties\": {\n        \"dtype\": \"number\",\n        \"std\": 0,\n        \"min\": 2,\n        \"max\": 4,\n        \"num_unique_values\": 3,\n        \"samples\": [\n          2,\n          3,\n          4\n        ],\n        \"semantic_type\": \"\",\n        \"description\": \"\"\n      }\n    }\n  ]\n}"
            }
          },
          "metadata": {},
          "execution_count": 48
        }
      ]
    },
    {
      "cell_type": "code",
      "source": [
        "Y"
      ],
      "metadata": {
        "colab": {
          "base_uri": "https://localhost:8080/",
          "height": 209
        },
        "id": "I3O7Y0-pNumO",
        "outputId": "919019d5-35c0-4ce4-d003-cb39efed730d"
      },
      "execution_count": 34,
      "outputs": [
        {
          "output_type": "execute_result",
          "data": {
            "text/plain": [
              "0    250000\n",
              "1    300000\n",
              "2    320000\n",
              "3    370000\n",
              "Name: Price, dtype: int64"
            ],
            "text/html": [
              "<div>\n",
              "<style scoped>\n",
              "    .dataframe tbody tr th:only-of-type {\n",
              "        vertical-align: middle;\n",
              "    }\n",
              "\n",
              "    .dataframe tbody tr th {\n",
              "        vertical-align: top;\n",
              "    }\n",
              "\n",
              "    .dataframe thead th {\n",
              "        text-align: right;\n",
              "    }\n",
              "</style>\n",
              "<table border=\"1\" class=\"dataframe\">\n",
              "  <thead>\n",
              "    <tr style=\"text-align: right;\">\n",
              "      <th></th>\n",
              "      <th>Price</th>\n",
              "    </tr>\n",
              "  </thead>\n",
              "  <tbody>\n",
              "    <tr>\n",
              "      <th>0</th>\n",
              "      <td>250000</td>\n",
              "    </tr>\n",
              "    <tr>\n",
              "      <th>1</th>\n",
              "      <td>300000</td>\n",
              "    </tr>\n",
              "    <tr>\n",
              "      <th>2</th>\n",
              "      <td>320000</td>\n",
              "    </tr>\n",
              "    <tr>\n",
              "      <th>3</th>\n",
              "      <td>370000</td>\n",
              "    </tr>\n",
              "  </tbody>\n",
              "</table>\n",
              "</div><br><label><b>dtype:</b> int64</label>"
            ]
          },
          "metadata": {},
          "execution_count": 34
        }
      ]
    },
    {
      "cell_type": "code",
      "source": [
        "#Model training\n",
        "model=LinearRegression()\n",
        "model.fit(X,Y)\n",
        "model.coef_\n",
        "model.intercept_\n",
        "print(f\" coeff: {model.coef_} \\n intercept: {model.intercept_}\")\n"
      ],
      "metadata": {
        "colab": {
          "base_uri": "https://localhost:8080/"
        },
        "id": "efAIC9-yO-33",
        "outputId": "5122cbe4-29a5-4f5f-a258-fc3b31ce82cb"
      },
      "execution_count": 35,
      "outputs": [
        {
          "output_type": "stream",
          "name": "stdout",
          "text": [
            " coeff: [   63.15789474 34736.84210526] \n",
            " intercept: 103157.89473684214\n"
          ]
        }
      ]
    },
    {
      "cell_type": "code",
      "source": [
        "Y_pred=model.predict(X)\n",
        "Y_pred"
      ],
      "metadata": {
        "colab": {
          "base_uri": "https://localhost:8080/"
        },
        "id": "U2EgjXqrP2fz",
        "outputId": "7db18aa4-135f-4ddb-981f-91e15f8be53e"
      },
      "execution_count": 38,
      "outputs": [
        {
          "output_type": "execute_result",
          "data": {
            "text/plain": [
              "array([248421.05263158, 302105.26315789, 321052.63157895, 368421.05263158])"
            ]
          },
          "metadata": {},
          "execution_count": 38
        }
      ]
    },
    {
      "cell_type": "code",
      "source": [
        "#Evaluation\n",
        "from sklearn.metrics import r2_score,mean_squared_error,mean_absolute_error\n",
        "mse=mean_squared_error(Y,Y_pred)\n",
        "r2_score(Y,Y_pred)\n",
        "mae=mean_absolute_error(Y,Y_pred)\n",
        "print(f\"mse: {mse} \\n r2_score: {r2_score(Y,Y_pred)} \\n mae: {mae}\")"
      ],
      "metadata": {
        "colab": {
          "base_uri": "https://localhost:8080/"
        },
        "id": "SkNjaa-LQOJI",
        "outputId": "35744e98-6896-47f9-8235-37e9eb19abaa"
      },
      "execution_count": 39,
      "outputs": [
        {
          "output_type": "stream",
          "name": "stdout",
          "text": [
            "mse: 2631578.9473683983 \n",
            " r2_score: 0.9985775248933144 \n",
            " mae: 1578.9473684210461\n"
          ]
        }
      ]
    },
    {
      "cell_type": "code",
      "source": [
        "#Visulization\n",
        "plt.scatter(Y,Y_pred,color='red')\n",
        "error=Y-Y_pred\n",
        "plt.scatter(Y,error,color='blue')\n",
        "plt.xlabel('Y')\n",
        "plt.ylabel('Y_pred')\n",
        "plt.title('Multiple Linear Regression')\n",
        "plt.legend()\n",
        "plt.show()\n",
        "# Check for multicollinearity using VIF\n",
        "# Add a constant to the independent variables for VIF calculation\n",
        "X_vif = sm.add_constant(X)\n",
        "\n",
        "vif_data = pd.DataFrame()\n",
        "vif_data[\"feature\"] = X_vif.columns\n",
        "vif_data[\"VIF\"] = [variance_inflation_factor(X_vif.values, i)\n",
        "                   for i in range(X_vif.shape[1])]\n",
        "\n",
        "print(\"\\nVariance Inflation Factor (VIF):\")\n",
        "print(vif_data)\n"
      ],
      "metadata": {
        "colab": {
          "base_uri": "https://localhost:8080/",
          "height": 631
        },
        "id": "vP4V6sHaQrR9",
        "outputId": "1f600bc8-9c53-4274-c8f5-ed3cc71b85af"
      },
      "execution_count": 47,
      "outputs": [
        {
          "output_type": "stream",
          "name": "stderr",
          "text": [
            "/tmp/ipython-input-3460759012.py:8: UserWarning: No artists with labels found to put in legend.  Note that artists whose label start with an underscore are ignored when legend() is called with no argument.\n",
            "  plt.legend()\n"
          ]
        },
        {
          "output_type": "display_data",
          "data": {
            "text/plain": [
              "<Figure size 640x480 with 1 Axes>"
            ],
            "image/png": "[encoded data removed]"
          },
          "metadata": {}
        },
        {
          "output_type": "stream",
          "name": "stdout",
          "text": [
            "\n",
            "Variance Inflation Factor (VIF):\n",
            "  feature        VIF\n",
            "0   const  34.210526\n",
            "1    Area   7.736842\n",
            "2   Rooms   7.736842\n"
          ]
        }
      ]
    },
    {
      "cell_type": "markdown",
      "source": [
        "8.Implement polynomial regression on the following data:\n",
        "● X = [1, 2, 3, 4, 5]\n",
        "3\n",
        "● Y = [2.2, 4.8, 7.5, 11.2, 14.7]\n",
        "Fit a 2nd-degree polynomial and plot the resulting curve"
      ],
      "metadata": {
        "id": "h8xkcmYPTMX7"
      }
    },
    {
      "cell_type": "code",
      "source": [
        "import numpy as np\n",
        "import matplotlib.pyplot as plt\n",
        "from sklearn.linear_model import LinearRegression\n",
        "from sklearn.preprocessing import PolynomialFeatures\n",
        "\n",
        "# Sample data\n",
        "X = np.array([1, 2, 3, 4, 5]).reshape(-1, 1)\n",
        "Y = np.array([2.2, 4.8, 7.5, 11.2, 14.7])\n",
        "\n",
        "# Create polynomial features (2nd degree)\n",
        "poly_features = PolynomialFeatures(degree=2)\n",
        "X_poly = poly_features.fit_transform(X)\n",
        "\n",
        "# Create and fit the linear regression model on polynomial features\n",
        "model = LinearRegression()\n",
        "model.fit(X_poly, Y)\n",
        "\n",
        "# Predict Y values using the polynomial model\n",
        "Y_pred = model.predict(X_poly)\n",
        "\n",
        "# Plot the original data and the polynomial regression curve\n",
        "plt.scatter(X, Y, color='blue', label='Original Data')\n",
        "plt.plot(X, Y_pred, color='red', label='2nd Degree Polynomial Fit')\n",
        "plt.xlabel('X')\n",
        "plt.ylabel('Y')\n",
        "plt.title('Polynomial Regression (Degree 2)')\n",
        "plt.legend()\n",
        "plt.show()\n",
        "\n",
        "# Print the polynomial coefficients\n",
        "print(\"Polynomial Regression Model Coefficients:\")\n",
        "print(f\"Intercept: {model.intercept_}\")\n",
        "print(f\"Coefficients: {model.coef_}\")"
      ],
      "metadata": {
        "colab": {
          "base_uri": "https://localhost:8080/",
          "height": 524
        },
        "id": "0OzZRR1cRTJ9",
        "outputId": "c7886232-fbe6-46d8-cba3-a9627e66f480"
      },
      "execution_count": 49,
      "outputs": [
        {
          "output_type": "display_data",
          "data": {
            "text/plain": [
              "<Figure size 640x480 with 1 Axes>"
            ],
            "image/png": "[encoded data removed]"
          },
          "metadata": {}
        },
        {
          "output_type": "stream",
          "name": "stdout",
          "text": [
            "Polynomial Regression Model Coefficients:\n",
            "Intercept: 0.06000000000000938\n",
            "Coefficients: [0.   1.94 0.2 ]\n"
          ]
        }
      ]
    },
    {
      "cell_type": "markdown",
      "source": [
        "9.Create a residuals plot for a regression model trained on this data:\n",
        "● X = [10, 20, 30, 40, 50]\n",
        "● Y = [15, 35, 40, 50, 65]\n",
        "Assess heteroscedasticity by examining the spread of residuals"
      ],
      "metadata": {
        "id": "GwR5wmTwTmal"
      }
    },
    {
      "cell_type": "code",
      "source": [
        "import numpy as np\n",
        "import matplotlib.pyplot as plt\n",
        "from sklearn.linear_model import LinearRegression\n",
        "\n",
        "# Sample data\n",
        "X = np.array([10, 20, 30, 40, 50]).reshape(-1, 1)\n",
        "Y = np.array([15, 35, 40, 50, 65])\n",
        "\n",
        "# Fit a Simple Linear Regression model (you could fit another model if preferred)\n",
        "model = LinearRegression()\n",
        "model.fit(X, Y)\n",
        "\n",
        "# Predict Y values\n",
        "Y_pred = model.predict(X)\n",
        "\n",
        "# Calculate residuals\n",
        "residuals = Y - Y_pred\n",
        "\n",
        "# Create a residuals plot\n",
        "plt.scatter(Y_pred, residuals, color='blue')\n",
        "plt.axhline(y=0, color='red', linestyle='-') # Add a horizontal line at 0\n",
        "plt.xlabel('Predicted Values')\n",
        "plt.ylabel('Residuals')\n",
        "plt.title('Residuals Plot')\n",
        "plt.grid(False)\n",
        "plt.show()\n",
        "\n",
        "# Assess heteroscedasticity\n",
        "print(\"Assessing Heteroscedasticity:\")\n",
        "print(\"Examine the residuals plot. If the spread of the residuals is roughly constant across all predicted values, this suggests homoscedasticity (constant variance). If the spread of the residuals changes (e.g., fanning out or fanning in) as the predicted values increase, this suggests heteroscedasticity (non-constant variance).\")"
      ],
      "metadata": {
        "colab": {
          "base_uri": "https://localhost:8080/",
          "height": 527
        },
        "id": "XsY0XRJBTt6i",
        "outputId": "ff091b47-3c16-488f-a94d-c28b34558d52"
      },
      "execution_count": 52,
      "outputs": [
        {
          "output_type": "display_data",
          "data": {
            "text/plain": [
              "<Figure size 640x480 with 1 Axes>"
            ],
            "image/png": "[encoded data removed]"
          },
          "metadata": {}
        },
        {
          "output_type": "stream",
          "name": "stdout",
          "text": [
            "Assessing Heteroscedasticity:\n",
            "Examine the residuals plot. If the spread of the residuals is roughly constant across all predicted values, this suggests homoscedasticity (constant variance). If the spread of the residuals changes (e.g., fanning out or fanning in) as the predicted values increase, this suggests heteroscedasticity (non-constant variance).\n"
          ]
        }
      ]
    },
    {
      "cell_type": "markdown",
      "source": [
        "10.Imagine you are a data scientist working for a real estate company. You\n",
        "need to predict house prices using features like area, number of rooms, and location.\n",
        "However, you detect heteroscedasticity and multicollinearity in your regression\n",
        "model. Explain the steps you would take to address these issues and ensure a robust\n",
        "model.\n",
        "\n",
        "-As a data scientist facing heteroscedasticity and multicollinearity in a real estate price prediction model, here are the steps I would take to address these issues and build a robust model:\n",
        "\n",
        "Addressing Heteroscedasticity:\n",
        "\n",
        "Heteroscedasticity means that the variance of the errors is not constant across all levels of the independent variables. This violates an assumption of OLS regression and can lead to inefficient coefficient estimates and invalid statistical inferences.\n",
        "\n",
        "Detection:\n",
        "Residuals Plots: As we've seen, plotting residuals against predicted values or independent variables is a primary visual method. Fanning-out or fanning-in patterns suggest heteroscedasticity.\n",
        "Statistical Tests: Formal tests like the Breusch-Pagan test or the White test can provide a statistical confirmation of heteroscedasticity. I would perform one or more of these tests.\n",
        "Remedies:\n",
        "Data Transformations: Transforming the dependent variable (house price) is a common approach. A logarithmic transformation (e.g., log(Price)) often helps stabilize the variance. Other transformations like square root or reciprocal might also be considered depending on the nature of the heteroscedasticity.\n",
        "Weighted Least Squares (WLS): If the pattern of heteroscedasticity is known or can be estimated, WLS can be used. This method assigns lower weights to observations with higher variances and higher weights to observations with lower variances, giving more influence to data points that are more reliably measured.\n",
        "Robust Standard Errors: This is often the most straightforward approach. Instead of trying to model and correct the heteroscedasticity, robust standard errors (also known as White standard errors) adjust the standard errors of the coefficients to account for the heteroscedasticity. This doesn't change the coefficient estimates but provides valid standard errors and p-values for hypothesis testing.\n",
        "Addressing Multicollinearity:\n",
        "\n",
        "Multicollinearity occurs when independent variables are highly correlated with each other. This makes it difficult to interpret the individual coefficients and can lead to unstable model estimates.\n",
        "\n",
        "Detection:\n",
        "Correlation Matrix/Heatmap: A correlation matrix or heatmap of the independent variables can reveal high pairwise correlations.\n",
        "Variance Inflation Factor (VIF): As we calculated earlier, VIF quantifies how much the variance of the estimated regression coefficient is increased due to multicollinearity. A high VIF (typically above 5 or 10) for a variable indicates significant multicollinearity.\n",
        "Remedies:\n",
        "Remove Highly Correlated Predictors: If two or more independent variables are highly correlated, consider removing one of them. The decision of which variable to remove might depend on domain knowledge, the strength of their correlation with the dependent variable, or practical considerations.\n",
        "Combine Correlated Predictors: Instead of removing variables, you could create a new composite variable that combines the highly correlated predictors. For example, if 'Area' and 'Number of Rooms' are highly correlated, you might create a new feature like 'Area per Room'.\n",
        "Dimensionality Reduction Techniques: Techniques like Principal Component Analysis (PCA) can be used to create a smaller set of uncorrelated variables (principal components) that capture most of the variance in the original correlated variables. These principal components can then be used as predictors in the regression model.\n",
        "Ridge Regression or Lasso Regression: These are regularization techniques that can handle multicollinearity by adding a penalty term to the regression objective function. Ridge regression shrinks the coefficients towards zero, while Lasso regression can force some coefficients to be exactly zero, effectively performing feature selection.\n",
        "Ensuring a Robust Model:\n",
        "\n",
        "Beyond addressing these specific issues, ensuring a robust model involves:\n",
        "\n",
        "Outlier Detection and Handling: Outliers can disproportionately influence regression results. Identifying and appropriately handling outliers (e.g., removal, transformation, or using robust regression methods) is crucial.\n",
        "Model Validation: Splitting the data into training, validation, and testing sets to evaluate the model's performance on unseen data. Cross-validation is also a powerful technique for robust model evaluation.\n",
        "Domain Knowledge: Collaborating with real estate experts to understand the relationships between features and price can inform variable selection, transformation choices, and the interpretation of results.\n",
        "Iterative Process: Model building is an iterative process. After addressing heteroscedasticity and multicollinearity, I would re-evaluate the model's assumptions, performance metrics, and interpretability, making further adjustments as needed.\n",
        "By systematically addressing heteroscedasticity and multicollinearity using these techniques, I can build a more reliable and robust regression model for predicting house prices."
      ],
      "metadata": {
        "id": "GG3bW8aAUeab"
      }
    },
    {
      "cell_type": "code",
      "source": [],
      "metadata": {
        "id": "e9b8rDKYUIrZ"
      },
      "execution_count": null,
      "outputs": []
    }
  ]
}